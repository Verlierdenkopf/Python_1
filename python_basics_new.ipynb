{
 "cells": [
  {
   "cell_type": "markdown",
   "metadata": {},
   "source": [
    "**Задание 1**. Даны 2 строки: *long_phrase* и *short_phrase*. \n",
    "Напишите код, который проверяет действительно ли длинная фраза *long_phrase* длиннее короткой *short_phrase*. И выводит *True* или *False* в зависимости от результата сравнения."
   ]
  },
  {
   "cell_type": "code",
   "execution_count": 26,
   "metadata": {},
   "outputs": [],
   "source": [
    "long_phrase = \"Насколько проще было бы писать программы, если бы не заказчики\"\n",
    "short_phrase = \"640Кб должно хватить для любых задач. Билл Гейтс (по легенде)\""
   ]
  },
  {
   "cell_type": "code",
   "execution_count": 48,
   "metadata": {},
   "outputs": [
    {
     "name": "stdout",
     "output_type": "stream",
     "text": [
      "True\n",
      "Конец программы\n"
     ]
    }
   ],
   "source": [
    "long_phrase = \"Насколько проще было бы писать программы, если бы не заказчики\"\n",
    "short_phrase = \"640Кб должно хватить для любых задач. Билл Гейтс (по легенде\"\n",
    "if len (long_phrase) > len (short_phrase):\n",
    "    print (\"True\")\n",
    "else:\n",
    "    print (\"False\")\n",
    "print (\"Конец программы\")    "
   ]
  },
  {
   "cell_type": "code",
   "execution_count": 32,
   "metadata": {},
   "outputs": [
    {
     "name": "stdout",
     "output_type": "stream",
     "text": [
      "long_phrase Hello world\n",
      "short_phrase Hi\n",
      "True\n",
      "Конец программы\n"
     ]
    }
   ],
   "source": [
    "l_phrase = input (\"long_phrase\")\n",
    "s_phrase = input (\"short_phrase\")\n",
    "if len (l_phrase) > len (s_phrase):\n",
    "       print (\"True\")\n",
    "else:\n",
    "    print (\"False\")\n",
    "print (\"Конец программы\")   "
   ]
  },
  {
   "cell_type": "markdown",
   "metadata": {},
   "source": [
    "**Задание 2**. Дано значение объема файла в байтах (*в мегабайте 2^20 байт*). Напишите перевод этого значения в мегабайты в формате: \"*Объем файла равен 213.68Mb*\"."
   ]
  },
  {
   "cell_type": "code",
   "execution_count": 92,
   "metadata": {},
   "outputs": [
    {
     "name": "stdout",
     "output_type": "stream",
     "text": [
      "Введите объем файла в байтах308394830\n",
      "Объем файла равен 294.11 Mb\n"
     ]
    }
   ],
   "source": [
    "file = int(input (\"Введите объем файла в байтах\"))\n",
    "file_mb = (file/1024)/1024\n",
    "print(\"Объем файла равен\", \"%.2f\" % file_mb, \"Mb\")"
   ]
  },
  {
   "cell_type": "markdown",
   "metadata": {},
   "source": [
    "**Задание 3**. Разработать приложение для определения знака зодиака по дате рождения. Пример:\n",
    "\n",
    "Введите месяц: март\n",
    "\n",
    "Введите число: 6\n",
    "\n",
    "Вывод:\n",
    "Рыбы"
   ]
  },
  {
   "cell_type": "code",
   "execution_count": 66,
   "metadata": {},
   "outputs": [
    {
     "name": "stdout",
     "output_type": "stream",
     "text": [
      "Введите месяц рожденияоктябрь\n",
      "Введите дату рождения24\n",
      "Вывод: Скорпион\n"
     ]
    }
   ],
   "source": [
    "month = input (\"Введите месяц рождения\")\n",
    "date = int(input (\"Введите дату рождения\"))\n",
    "if month == \"Январь\" or month == \"январь\" and 1 <= date <= 19:\n",
    "    print (\"Вывод: Козерог\")\n",
    "elif month == \"Январь\" or month == \"январь\" and 20 <= date <= 31:\n",
    "    print (\"Вывод: Водолей\")\n",
    "elif month == \"Февраль\" or month == \"февраль\" and 1 <= date <= 19:\n",
    "    print (\"Вывод: Водолей\")\n",
    "elif month == \"Февраль\" or month == \"февраль\" and 20 <= date <= 29:\n",
    "    print (\"Вывод: Рыбы\")    \n",
    "elif month == \"Март\" or month == \"март\" and 1 <= date <= 20:\n",
    "    print (\"Вывод: Рыбы\")  \n",
    "elif month == \"Март\" or month == \"март \" and 21 <= date <= 31:\n",
    "    print (\"Вывод: Овен\")\n",
    "elif month == \"Апрель\" or month == \"апрель\" and 1 <= date <= 20:\n",
    "    print (\"Вывод: Овен\") \n",
    "elif month == \"Апрель\" or month == \"Апрель\" and 21 <= date <= 30:\n",
    "    print (\"Вывод: Телец\") \n",
    "elif month == \"Май\" or month == \"май\" and 1 <= date <= 20:\n",
    "    print (\"Вывод: Телец\")    \n",
    "elif month == \"Май\" or month == \"май\" and 21 <= date <= 31:\n",
    "    print (\"Вывод: Близнецы\")        \n",
    "elif month == \"Июнь\" or month == \"июнь\" and 1 <= date <= 20:\n",
    "    print (\"Вывод: Близнецы\")   \n",
    "elif month == \"Июнь\" or month == \"июнь\" and 21 <= date <= 30:\n",
    "    print (\"Вывод: Рак\")\n",
    "elif month == \"Июль\" or month == \"июль\" and 1 <= date <= 22:\n",
    "    print (\"Вывод: Рак\") \n",
    "elif month == \"Июль\" or month == \"июль\" and 23 <= date <= 31:\n",
    "    print (\"Вывод: Лев\") \n",
    "elif month == \"Август\" or month == \"август\" and 1 <= date <= 22:\n",
    "    print (\"Вывод: Лев\")\n",
    "elif month == \"Август\" or month == \"август\" and 23 <= date <= 31:\n",
    "    print (\"Вывод: Дева\")\n",
    "elif month == \"Сентябрь\" or month == \"сентябрь\" and 1 <= date <= 22:\n",
    "    print (\"Вывод: Дева\")\n",
    "elif month == \"Сентябрь\" or month == \"сентябрь\" and 23 <= date <= 30:\n",
    "    print (\"Вывод: Весы\") \n",
    "elif month == \"Октябрь\" or month == \"октябрь\" and 1 <= date <= 22:\n",
    "    print (\"Вывод: Весы\") \n",
    "elif month == \"Октябрь\" or month == \"октябрь\" and 23 <= date <= 31:\n",
    "    print (\"Вывод: Скорпион\")    \n",
    "elif month == \"Ноябрь\" or month == \"ноябрь\" and 1 <= date <= 22:\n",
    "    print (\"Вывод: Скорпион\")\n",
    "elif month == \"Ноябрь\" or month == \"ноябрь\" and 23 <= date <= 30:\n",
    "    print (\"Вывод: Стрелец\")    \n",
    "elif month == \"Декабрь\" or month == \"декабрь\" and 1 <= date <= 21:\n",
    "    print (\"Вывод: Стрелец\")  \n",
    "elif month == \"Декабрь\" or month == \"декабрь\" and 22 <= date <= 31:\n",
    "    print (\"Вывод: Козерог\")    \n",
    "else:\n",
    "    print (\"Ошибка ввода\")      "
   ]
  },
  {
   "cell_type": "markdown",
   "metadata": {},
   "source": [
    "**Задание 4**. Нужно разработать приложение для финансового планирования.\n",
    "Приложение учитывает сколько уходит на ипотеку, \"на жизнь\" и сколько нужно отложить на пенсию.\n",
    "Пользователь вводит:\n",
    "- заработанную плату в месяц.\n",
    "- сколько процентов от ЗП уходит на ипотеку.\n",
    "- сколько процентов от ЗП уходит \"на жизнь\".\n",
    "- сколько раз приходит премия в год.\n",
    "\n",
    "Остальная часть заработанной платы откладывается на пенсию.\n",
    "\n",
    "Также пользователю приходит премия в размере зарплаты, от которой половина уходит на отпуск, а вторая половина откладывается.\n",
    "\n",
    "Программа должна учитывать сколько премий было в год.\n",
    "\n",
    "Нужно вывести сколько денег тратит пользователь на ипотеку и сколько он накопит за год.\n",
    "\n",
    "Пример:\n",
    "\n",
    "Введите заработанную плату в месяц: 100000\n",
    "\n",
    "Введите сколько процентов уходит на ипотеку: 30\n",
    "\n",
    "Введите сколько процентов уходит на жизнь: 50\n",
    "\n",
    "Введите количество премий за год: 2\n",
    "\n",
    "Вывод:\n",
    "На ипотеку было потрачено: 360000 рублей\n",
    "Было накоплено: 340000 рублей"
   ]
  },
  {
   "cell_type": "code",
   "execution_count": 124,
   "metadata": {},
   "outputs": [
    {
     "name": "stdout",
     "output_type": "stream",
     "text": [
      "Введите заработанную плату в месяц90000\n",
      "Введите сколько процентов уходит на ипотеку20\n",
      "Введите сколько процентов уходит на жизнь30\n",
      "Введите количество премий за год1\n",
      "На ипотеку было потрачено: 216000.0 Было накоплено: 585000.0 рублей\n"
     ]
    }
   ],
   "source": [
    "salary = int(input (\"Введите заработанную плату в месяц\"))\n",
    "mortgage = int(input (\"Введите сколько процентов уходит на ипотеку\"))\n",
    "life = int(input (\"Введите сколько процентов уходит на жизнь\"))\n",
    "bonus = int(input(\"Введите количество премий за год\"))\n",
    "year_mortgage = (salary * mortgage * 12) / 100\n",
    "year_life = (salary * life * 12) / 100\n",
    "year_pension = (salary * 12) - year_mortgage - year_life              \n",
    "pension_plus = year_pension + (bonus * salary/ 2) \n",
    "print (\"На ипотеку было потрачено:\", year_mortgage, \"Было накоплено:\", pension_plus, \"рублей\")"
   ]
  },
  {
   "cell_type": "code",
   "execution_count": null,
   "metadata": {},
   "outputs": [],
   "source": []
  }
 ],
 "metadata": {
  "kernelspec": {
   "display_name": "Python 3",
   "language": "python",
   "name": "python3"
  },
  "language_info": {
   "codemirror_mode": {
    "name": "ipython",
    "version": 3
   },
   "file_extension": ".py",
   "mimetype": "text/x-python",
   "name": "python",
   "nbconvert_exporter": "python",
   "pygments_lexer": "ipython3",
   "version": "3.7.6"
  }
 },
 "nbformat": 4,
 "nbformat_minor": 2
}
